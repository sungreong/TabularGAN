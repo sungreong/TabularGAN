{
 "metadata": {
  "language_info": {
   "codemirror_mode": {
    "name": "ipython",
    "version": 3
   },
   "file_extension": ".py",
   "mimetype": "text/x-python",
   "name": "python",
   "nbconvert_exporter": "python",
   "pygments_lexer": "ipython3",
   "version": "3.8.8"
  },
  "orig_nbformat": 2,
  "kernelspec": {
   "name": "python388jvsc74a57bd0d3773b654528d79880d3e2b33a682f0f55f4d8370c8ead39985baabf4eb4f1db",
   "display_name": "Python 3.8.8 64-bit ('test': conda)"
  }
 },
 "nbformat": 4,
 "nbformat_minor": 2,
 "cells": [
  {
   "source": [
    "\n",
    "[colab code](https://colab.research.google.com/github/PytorchLightning/pytorch-lightning/blob/master/notebooks/03-basic-gan.ipynb#scrollTo=DOY_nHu328g7)"
   ],
   "cell_type": "markdown",
   "metadata": {}
  },
  {
   "cell_type": "code",
   "execution_count": 1,
   "metadata": {},
   "outputs": [],
   "source": [
    "import os\n",
    "from argparse import ArgumentParser\n",
    "from collections import OrderedDict\n",
    "\n",
    "import numpy as np\n",
    "import torch\n",
    "import torch.nn as nn\n",
    "import torch.nn.functional as F\n",
    "import torchvision\n",
    "import torchvision.transforms as transforms\n",
    "from torch.utils.data import DataLoader, random_split\n",
    "from torchvision.datasets import MNIST\n",
    "\n",
    "import pytorch_lightning as pl"
   ]
  },
  {
   "cell_type": "code",
   "execution_count": 2,
   "metadata": {},
   "outputs": [],
   "source": [
    "class MNISTDataModule(pl.LightningDataModule):\n",
    "\n",
    "    def __init__(self, data_dir: str = './', batch_size: int = 64, num_workers: int = 8):\n",
    "        super().__init__()\n",
    "        self.data_dir = data_dir\n",
    "        self.batch_size = batch_size\n",
    "        self.num_workers = num_workers\n",
    "\n",
    "        self.transform = transforms.Compose([\n",
    "            transforms.ToTensor(),\n",
    "            transforms.Normalize((0.1307,), (0.3081,))\n",
    "        ])\n",
    "\n",
    "        # self.dims is returned when you call dm.size()\n",
    "        # Setting default dims here because we know them.\n",
    "        # Could optionally be assigned dynamically in dm.setup()\n",
    "        self.dims = (1, 28, 28)\n",
    "        self.num_classes = 10\n",
    "\n",
    "    def prepare_data(self):\n",
    "        # download\n",
    "        MNIST(self.data_dir, train=True, download=True)\n",
    "        MNIST(self.data_dir, train=False, download=True)\n",
    "\n",
    "    def setup(self, stage=None):\n",
    "\n",
    "        # Assign train/val datasets for use in dataloaders\n",
    "        if stage == 'fit' or stage is None:\n",
    "            mnist_full = MNIST(self.data_dir, train=True, transform=self.transform)\n",
    "            self.mnist_train, self.mnist_val = random_split(mnist_full, [55000, 5000])\n",
    "\n",
    "        # Assign test dataset for use in dataloader(s)\n",
    "        if stage == 'test' or stage is None:\n",
    "            self.mnist_test = MNIST(self.data_dir, train=False, transform=self.transform)\n",
    "\n",
    "    def train_dataloader(self):\n",
    "        return DataLoader(self.mnist_train, batch_size=self.batch_size, num_workers=self.num_workers)\n",
    "\n",
    "    def val_dataloader(self):\n",
    "        return DataLoader(self.mnist_val, batch_size=self.batch_size, num_workers=self.num_workers)\n",
    "\n",
    "    def test_dataloader(self):\n",
    "        return DataLoader(self.mnist_test, batch_size=self.batch_size, num_workers=self.num_workers)"
   ]
  },
  {
   "cell_type": "code",
   "execution_count": 12,
   "metadata": {},
   "outputs": [],
   "source": [
    "class Generator(nn.Module):\n",
    "    def __init__(self, latent_dim, img_shape):\n",
    "        super().__init__()\n",
    "        self.img_shape = img_shape\n",
    "\n",
    "        def block(in_feat, out_feat, normalize=True):\n",
    "            layers = [nn.Linear(in_feat, out_feat)]\n",
    "            if normalize:\n",
    "                layers.append(nn.BatchNorm1d(out_feat, 0.8))\n",
    "            layers.append(nn.LeakyReLU(0.2, inplace=True))\n",
    "            return layers\n",
    "\n",
    "        self.model = nn.Sequential(\n",
    "            *block(latent_dim, 128, normalize=False),\n",
    "            *block(128, 256),\n",
    "            *block(256, 512),\n",
    "            *block(512, 1024),\n",
    "            nn.Linear(1024, int(np.prod(img_shape))),\n",
    "            nn.Tanh()\n",
    "        )\n",
    "\n",
    "    def forward(self, z):\n",
    "        img = self.model(z)\n",
    "        img = img.view(img.size(0), *self.img_shape)\n",
    "        return img"
   ]
  },
  {
   "cell_type": "code",
   "execution_count": 4,
   "metadata": {},
   "outputs": [],
   "source": [
    "class Discriminator(nn.Module):\n",
    "    def __init__(self, img_shape):\n",
    "        super().__init__()\n",
    "\n",
    "        self.model = nn.Sequential(\n",
    "            nn.Linear(int(np.prod(img_shape)), 512),\n",
    "            nn.LeakyReLU(0.2, inplace=True),\n",
    "            nn.Linear(512, 256),\n",
    "            nn.LeakyReLU(0.2, inplace=True),\n",
    "            nn.Linear(256, 1),\n",
    "            nn.Sigmoid(),\n",
    "        )\n",
    "\n",
    "    def forward(self, img):\n",
    "        img_flat = img.view(img.size(0), -1)\n",
    "        validity = self.model(img_flat)\n",
    "\n",
    "        return validity"
   ]
  },
  {
   "cell_type": "code",
   "execution_count": 19,
   "metadata": {},
   "outputs": [],
   "source": [
    "class GAN(pl.LightningModule):\n",
    "\n",
    "    def __init__(\n",
    "        self,\n",
    "        channels,\n",
    "        width,\n",
    "        height,\n",
    "        latent_dim: int = 100,\n",
    "        lr: float = 0.0002,\n",
    "        b1: float = 0.5,\n",
    "        b2: float = 0.999,\n",
    "        batch_size: int = 64,\n",
    "        **kwargs\n",
    "    ):\n",
    "        super().__init__()\n",
    "        self.save_hyperparameters()\n",
    "\n",
    "        # networks\n",
    "        data_shape = (channels, width, height)\n",
    "        self.generator = Generator(latent_dim=self.hparams.latent_dim, img_shape=data_shape)\n",
    "        self.discriminator = Discriminator(img_shape=data_shape)\n",
    "\n",
    "        self.validation_z = torch.randn(8, self.hparams.latent_dim)\n",
    "\n",
    "        self.example_input_array = torch.zeros(2, self.hparams.latent_dim)\n",
    "\n",
    "    def forward(self, z):\n",
    "        return self.generator(z)\n",
    "\n",
    "    def adversarial_loss(self, y_hat, y):\n",
    "        return F.binary_cross_entropy(y_hat, y)\n",
    "\n",
    "    def training_step(self, batch, batch_idx, optimizer_idx):\n",
    "        imgs, _ = batch\n",
    "\n",
    "        # sample noise\n",
    "        z = torch.randn(imgs.shape[0], self.hparams.latent_dim)\n",
    "        z = z.type_as(imgs)\n",
    "        # train generator\n",
    "        if optimizer_idx == 0:\n",
    "\n",
    "            # generate images\n",
    "            self.generated_imgs = self(z)\n",
    "\n",
    "            # log sampled images\n",
    "            sample_imgs = self.generated_imgs[:6]\n",
    "            grid = torchvision.utils.make_grid(sample_imgs)\n",
    "            self.logger.experiment.add_image('generated_images', grid, 0)\n",
    "\n",
    "            # ground truth result (ie: all fake)\n",
    "            # put on GPU because we created this tensor inside training_loop\n",
    "            valid = torch.ones(imgs.size(0), 1)\n",
    "            valid = valid.type_as(imgs)\n",
    "\n",
    "            # adversarial loss is binary cross-entropy\n",
    "            g_loss = self.adversarial_loss(self.discriminator(self(z)), valid)\n",
    "            tqdm_dict = {'g_loss': g_loss}\n",
    "            output = OrderedDict({\n",
    "                'loss': g_loss,\n",
    "                'progress_bar': tqdm_dict,\n",
    "                'log': tqdm_dict\n",
    "            })\n",
    "            return output\n",
    "\n",
    "        # train discriminator\n",
    "        if optimizer_idx == 1:\n",
    "            # Measure discriminator's ability to classify real from generated samples\n",
    "\n",
    "            # how well can it label as real?\n",
    "            valid = torch.ones(imgs.size(0), 1)\n",
    "            valid = valid.type_as(imgs)\n",
    "\n",
    "            real_loss = self.adversarial_loss(self.discriminator(imgs), valid)\n",
    "\n",
    "            # how well can it label as fake?\n",
    "            fake = torch.zeros(imgs.size(0), 1)\n",
    "            fake = fake.type_as(imgs)\n",
    "\n",
    "            fake_loss = self.adversarial_loss(\n",
    "                self.discriminator(self(z).detach()), fake)\n",
    "\n",
    "            # discriminator loss is the average of these\n",
    "            d_loss = (real_loss + fake_loss) / 2\n",
    "            tqdm_dict = {'d_loss': d_loss}\n",
    "            output = OrderedDict({\n",
    "                'loss': d_loss,\n",
    "                'progress_bar': tqdm_dict,\n",
    "                'log': tqdm_dict\n",
    "            })\n",
    "            return output\n",
    "\n",
    "    def configure_optimizers(self):\n",
    "        lr = self.hparams.lr\n",
    "        b1 = self.hparams.b1\n",
    "        b2 = self.hparams.b2\n",
    "\n",
    "        opt_g = torch.optim.Adam(self.generator.parameters(), lr=lr, betas=(b1, b2))\n",
    "        opt_d = torch.optim.Adam(self.discriminator.parameters(), lr=lr, betas=(b1, b2))\n",
    "        return [opt_g, opt_d], []\n",
    "\n",
    "    def on_epoch_end(self):\n",
    "        z = self.validation_z.type_as(self.generator.model[0].weight)\n",
    "\n",
    "        # log sampled images\n",
    "        sample_imgs = self(z)\n",
    "        grid = torchvision.utils.make_grid(sample_imgs)\n",
    "        self.logger.experiment.add_image('generated_images', grid, self.current_epoch)"
   ]
  },
  {
   "cell_type": "code",
   "execution_count": 20,
   "metadata": {},
   "outputs": [
    {
     "output_type": "stream",
     "name": "stderr",
     "text": [
      "GPU available: False, used: False\n",
      "TPU available: False, using: 0 TPU cores\n",
      "/opt/conda/envs/test/lib/python3.8/site-packages/pytorch_lightning/utilities/distributed.py:69: UserWarning: you passed in a val_dataloader but have no validation_step. Skipping val loop\n",
      "  warnings.warn(*args, **kwargs)\n",
      "\n",
      "  | Name          | Type          | Params | In sizes | Out sizes     \n",
      "----------------------------------------------------------------------------\n",
      "0 | generator     | Generator     | 1.5 M  | [2, 100] | [2, 1, 28, 28]\n",
      "1 | discriminator | Discriminator | 533 K  | ?        | ?             \n",
      "----------------------------------------------------------------------------\n",
      "2.0 M     Trainable params\n",
      "0         Non-trainable params\n",
      "2.0 M     Total params\n",
      "8.174     Total estimated model params size (MB)\n"
     ]
    },
    {
     "output_type": "display_data",
     "data": {
      "text/plain": "Training: 0it [00:00, ?it/s]",
      "application/vnd.jupyter.widget-view+json": {
       "version_major": 2,
       "version_minor": 0,
       "model_id": "aafae91d031a487095d6cc4816057d8a"
      }
     },
     "metadata": {}
    }
   ],
   "source": [
    "dm = MNISTDataModule()\n",
    "model = GAN(*dm.size())\n",
    "trainer = pl.Trainer(gpus=0, max_epochs=5, progress_bar_refresh_rate=20)\n",
    "trainer.fit(model, dm)"
   ]
  },
  {
   "cell_type": "code",
   "execution_count": 21,
   "metadata": {},
   "outputs": [
    {
     "output_type": "execute_result",
     "data": {
      "text/plain": [
       "<matplotlib.image.AxesImage at 0x7f0d994a0370>"
      ]
     },
     "metadata": {},
     "execution_count": 21
    },
    {
     "output_type": "display_data",
     "data": {
      "text/plain": "<Figure size 432x288 with 1 Axes>",
      "image/svg+xml": "<?xml version=\"1.0\" encoding=\"utf-8\" standalone=\"no\"?>\n<!DOCTYPE svg PUBLIC \"-//W3C//DTD SVG 1.1//EN\"\n  \"http://www.w3.org/Graphics/SVG/1.1/DTD/svg11.dtd\">\n<svg height=\"248.518125pt\" version=\"1.1\" viewBox=\"0 0 251.565 248.518125\" width=\"251.565pt\" xmlns=\"http://www.w3.org/2000/svg\" xmlns:xlink=\"http://www.w3.org/1999/xlink\">\n <metadata>\n  <rdf:RDF xmlns:cc=\"http://creativecommons.org/ns#\" xmlns:dc=\"http://purl.org/dc/elements/1.1/\" xmlns:rdf=\"http://www.w3.org/1999/02/22-rdf-syntax-ns#\">\n   <cc:Work>\n    <dc:type rdf:resource=\"http://purl.org/dc/dcmitype/StillImage\"/>\n    <dc:date>2021-05-24T14:38:16.557969</dc:date>\n    <dc:format>image/svg+xml</dc:format>\n    <dc:creator>\n     <cc:Agent>\n      <dc:title>Matplotlib v3.4.1, https://matplotlib.org/</dc:title>\n     </cc:Agent>\n    </dc:creator>\n   </cc:Work>\n  </rdf:RDF>\n </metadata>\n <defs>\n  <style type=\"text/css\">*{stroke-linecap:butt;stroke-linejoin:round;}</style>\n </defs>\n <g id=\"figure_1\">\n  <g id=\"patch_1\">\n   <path d=\"M 0 248.518125 \nL 251.565 248.518125 \nL 251.565 0 \nL 0 0 \nz\n\" style=\"fill:none;\"/>\n  </g>\n  <g id=\"axes_1\">\n   <g id=\"patch_2\">\n    <path d=\"M 26.925 224.64 \nL 244.365 224.64 \nL 244.365 7.2 \nL 26.925 7.2 \nz\n\" style=\"fill:#ffffff;\"/>\n   </g>\n   <g clip-path=\"url(#p79f8b48dd3)\">\n    <image height=\"218\" id=\"image76468381df\" transform=\"scale(1 -1)translate(0 -218)\" width=\"218\" x=\"26.925\" xlink:href=\"data:image/png;base64,\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\" y=\"-6.64\"/>\n   </g>\n   <g id=\"matplotlib.axis_1\">\n    <g id=\"xtick_1\">\n     <g id=\"line2d_1\">\n      <defs>\n       <path d=\"M 0 0 \nL 0 3.5 \n\" id=\"m059506e74b\" style=\"stroke:#000000;stroke-width:0.8;\"/>\n      </defs>\n      <g>\n       <use style=\"stroke:#000000;stroke-width:0.8;\" x=\"30.807857\" xlink:href=\"#m059506e74b\" y=\"224.64\"/>\n      </g>\n     </g>\n     <g id=\"text_1\">\n      <!-- 0 -->\n      <g transform=\"translate(27.626607 239.238437)scale(0.1 -0.1)\">\n       <defs>\n        <path d=\"M 2034 4250 \nQ 1547 4250 1301 3770 \nQ 1056 3291 1056 2328 \nQ 1056 1369 1301 889 \nQ 1547 409 2034 409 \nQ 2525 409 2770 889 \nQ 3016 1369 3016 2328 \nQ 3016 3291 2770 3770 \nQ 2525 4250 2034 4250 \nz\nM 2034 4750 \nQ 2819 4750 3233 4129 \nQ 3647 3509 3647 2328 \nQ 3647 1150 3233 529 \nQ 2819 -91 2034 -91 \nQ 1250 -91 836 529 \nQ 422 1150 422 2328 \nQ 422 3509 836 4129 \nQ 1250 4750 2034 4750 \nz\n\" id=\"DejaVuSans-30\" transform=\"scale(0.015625)\"/>\n       </defs>\n       <use xlink:href=\"#DejaVuSans-30\"/>\n      </g>\n     </g>\n    </g>\n    <g id=\"xtick_2\">\n     <g id=\"line2d_2\">\n      <g>\n       <use style=\"stroke:#000000;stroke-width:0.8;\" x=\"69.636429\" xlink:href=\"#m059506e74b\" y=\"224.64\"/>\n      </g>\n     </g>\n     <g id=\"text_2\">\n      <!-- 5 -->\n      <g transform=\"translate(66.455179 239.238437)scale(0.1 -0.1)\">\n       <defs>\n        <path d=\"M 691 4666 \nL 3169 4666 \nL 3169 4134 \nL 1269 4134 \nL 1269 2991 \nQ 1406 3038 1543 3061 \nQ 1681 3084 1819 3084 \nQ 2600 3084 3056 2656 \nQ 3513 2228 3513 1497 \nQ 3513 744 3044 326 \nQ 2575 -91 1722 -91 \nQ 1428 -91 1123 -41 \nQ 819 9 494 109 \nL 494 744 \nQ 775 591 1075 516 \nQ 1375 441 1709 441 \nQ 2250 441 2565 725 \nQ 2881 1009 2881 1497 \nQ 2881 1984 2565 2268 \nQ 2250 2553 1709 2553 \nQ 1456 2553 1204 2497 \nQ 953 2441 691 2322 \nL 691 4666 \nz\n\" id=\"DejaVuSans-35\" transform=\"scale(0.015625)\"/>\n       </defs>\n       <use xlink:href=\"#DejaVuSans-35\"/>\n      </g>\n     </g>\n    </g>\n    <g id=\"xtick_3\">\n     <g id=\"line2d_3\">\n      <g>\n       <use style=\"stroke:#000000;stroke-width:0.8;\" x=\"108.465\" xlink:href=\"#m059506e74b\" y=\"224.64\"/>\n      </g>\n     </g>\n     <g id=\"text_3\">\n      <!-- 10 -->\n      <g transform=\"translate(102.1025 239.238437)scale(0.1 -0.1)\">\n       <defs>\n        <path d=\"M 794 531 \nL 1825 531 \nL 1825 4091 \nL 703 3866 \nL 703 4441 \nL 1819 4666 \nL 2450 4666 \nL 2450 531 \nL 3481 531 \nL 3481 0 \nL 794 0 \nL 794 531 \nz\n\" id=\"DejaVuSans-31\" transform=\"scale(0.015625)\"/>\n       </defs>\n       <use xlink:href=\"#DejaVuSans-31\"/>\n       <use x=\"63.623047\" xlink:href=\"#DejaVuSans-30\"/>\n      </g>\n     </g>\n    </g>\n    <g id=\"xtick_4\">\n     <g id=\"line2d_4\">\n      <g>\n       <use style=\"stroke:#000000;stroke-width:0.8;\" x=\"147.293571\" xlink:href=\"#m059506e74b\" y=\"224.64\"/>\n      </g>\n     </g>\n     <g id=\"text_4\">\n      <!-- 15 -->\n      <g transform=\"translate(140.931071 239.238437)scale(0.1 -0.1)\">\n       <use xlink:href=\"#DejaVuSans-31\"/>\n       <use x=\"63.623047\" xlink:href=\"#DejaVuSans-35\"/>\n      </g>\n     </g>\n    </g>\n    <g id=\"xtick_5\">\n     <g id=\"line2d_5\">\n      <g>\n       <use style=\"stroke:#000000;stroke-width:0.8;\" x=\"186.122143\" xlink:href=\"#m059506e74b\" y=\"224.64\"/>\n      </g>\n     </g>\n     <g id=\"text_5\">\n      <!-- 20 -->\n      <g transform=\"translate(179.759643 239.238437)scale(0.1 -0.1)\">\n       <defs>\n        <path d=\"M 1228 531 \nL 3431 531 \nL 3431 0 \nL 469 0 \nL 469 531 \nQ 828 903 1448 1529 \nQ 2069 2156 2228 2338 \nQ 2531 2678 2651 2914 \nQ 2772 3150 2772 3378 \nQ 2772 3750 2511 3984 \nQ 2250 4219 1831 4219 \nQ 1534 4219 1204 4116 \nQ 875 4013 500 3803 \nL 500 4441 \nQ 881 4594 1212 4672 \nQ 1544 4750 1819 4750 \nQ 2544 4750 2975 4387 \nQ 3406 4025 3406 3419 \nQ 3406 3131 3298 2873 \nQ 3191 2616 2906 2266 \nQ 2828 2175 2409 1742 \nQ 1991 1309 1228 531 \nz\n\" id=\"DejaVuSans-32\" transform=\"scale(0.015625)\"/>\n       </defs>\n       <use xlink:href=\"#DejaVuSans-32\"/>\n       <use x=\"63.623047\" xlink:href=\"#DejaVuSans-30\"/>\n      </g>\n     </g>\n    </g>\n    <g id=\"xtick_6\">\n     <g id=\"line2d_6\">\n      <g>\n       <use style=\"stroke:#000000;stroke-width:0.8;\" x=\"224.950714\" xlink:href=\"#m059506e74b\" y=\"224.64\"/>\n      </g>\n     </g>\n     <g id=\"text_6\">\n      <!-- 25 -->\n      <g transform=\"translate(218.588214 239.238437)scale(0.1 -0.1)\">\n       <use xlink:href=\"#DejaVuSans-32\"/>\n       <use x=\"63.623047\" xlink:href=\"#DejaVuSans-35\"/>\n      </g>\n     </g>\n    </g>\n   </g>\n   <g id=\"matplotlib.axis_2\">\n    <g id=\"ytick_1\">\n     <g id=\"line2d_7\">\n      <defs>\n       <path d=\"M 0 0 \nL -3.5 0 \n\" id=\"me090ca9aa0\" style=\"stroke:#000000;stroke-width:0.8;\"/>\n      </defs>\n      <g>\n       <use style=\"stroke:#000000;stroke-width:0.8;\" x=\"26.925\" xlink:href=\"#me090ca9aa0\" y=\"11.082857\"/>\n      </g>\n     </g>\n     <g id=\"text_7\">\n      <!-- 0 -->\n      <g transform=\"translate(13.5625 14.882076)scale(0.1 -0.1)\">\n       <use xlink:href=\"#DejaVuSans-30\"/>\n      </g>\n     </g>\n    </g>\n    <g id=\"ytick_2\">\n     <g id=\"line2d_8\">\n      <g>\n       <use style=\"stroke:#000000;stroke-width:0.8;\" x=\"26.925\" xlink:href=\"#me090ca9aa0\" y=\"49.911429\"/>\n      </g>\n     </g>\n     <g id=\"text_8\">\n      <!-- 5 -->\n      <g transform=\"translate(13.5625 53.710647)scale(0.1 -0.1)\">\n       <use xlink:href=\"#DejaVuSans-35\"/>\n      </g>\n     </g>\n    </g>\n    <g id=\"ytick_3\">\n     <g id=\"line2d_9\">\n      <g>\n       <use style=\"stroke:#000000;stroke-width:0.8;\" x=\"26.925\" xlink:href=\"#me090ca9aa0\" y=\"88.74\"/>\n      </g>\n     </g>\n     <g id=\"text_9\">\n      <!-- 10 -->\n      <g transform=\"translate(7.2 92.539219)scale(0.1 -0.1)\">\n       <use xlink:href=\"#DejaVuSans-31\"/>\n       <use x=\"63.623047\" xlink:href=\"#DejaVuSans-30\"/>\n      </g>\n     </g>\n    </g>\n    <g id=\"ytick_4\">\n     <g id=\"line2d_10\">\n      <g>\n       <use style=\"stroke:#000000;stroke-width:0.8;\" x=\"26.925\" xlink:href=\"#me090ca9aa0\" y=\"127.568571\"/>\n      </g>\n     </g>\n     <g id=\"text_10\">\n      <!-- 15 -->\n      <g transform=\"translate(7.2 131.36779)scale(0.1 -0.1)\">\n       <use xlink:href=\"#DejaVuSans-31\"/>\n       <use x=\"63.623047\" xlink:href=\"#DejaVuSans-35\"/>\n      </g>\n     </g>\n    </g>\n    <g id=\"ytick_5\">\n     <g id=\"line2d_11\">\n      <g>\n       <use style=\"stroke:#000000;stroke-width:0.8;\" x=\"26.925\" xlink:href=\"#me090ca9aa0\" y=\"166.397143\"/>\n      </g>\n     </g>\n     <g id=\"text_11\">\n      <!-- 20 -->\n      <g transform=\"translate(7.2 170.196362)scale(0.1 -0.1)\">\n       <use xlink:href=\"#DejaVuSans-32\"/>\n       <use x=\"63.623047\" xlink:href=\"#DejaVuSans-30\"/>\n      </g>\n     </g>\n    </g>\n    <g id=\"ytick_6\">\n     <g id=\"line2d_12\">\n      <g>\n       <use style=\"stroke:#000000;stroke-width:0.8;\" x=\"26.925\" xlink:href=\"#me090ca9aa0\" y=\"205.225714\"/>\n      </g>\n     </g>\n     <g id=\"text_12\">\n      <!-- 25 -->\n      <g transform=\"translate(7.2 209.024933)scale(0.1 -0.1)\">\n       <use xlink:href=\"#DejaVuSans-32\"/>\n       <use x=\"63.623047\" xlink:href=\"#DejaVuSans-35\"/>\n      </g>\n     </g>\n    </g>\n   </g>\n   <g id=\"patch_3\">\n    <path d=\"M 26.925 224.64 \nL 26.925 7.2 \n\" style=\"fill:none;stroke:#000000;stroke-linecap:square;stroke-linejoin:miter;stroke-width:0.8;\"/>\n   </g>\n   <g id=\"patch_4\">\n    <path d=\"M 244.365 224.64 \nL 244.365 7.2 \n\" style=\"fill:none;stroke:#000000;stroke-linecap:square;stroke-linejoin:miter;stroke-width:0.8;\"/>\n   </g>\n   <g id=\"patch_5\">\n    <path d=\"M 26.925 224.64 \nL 244.365 224.64 \n\" style=\"fill:none;stroke:#000000;stroke-linecap:square;stroke-linejoin:miter;stroke-width:0.8;\"/>\n   </g>\n   <g id=\"patch_6\">\n    <path d=\"M 26.925 7.2 \nL 244.365 7.2 \n\" style=\"fill:none;stroke:#000000;stroke-linecap:square;stroke-linejoin:miter;stroke-width:0.8;\"/>\n   </g>\n  </g>\n </g>\n <defs>\n  <clipPath id=\"p79f8b48dd3\">\n   <rect height=\"217.44\" width=\"217.44\" x=\"26.925\" y=\"7.2\"/>\n  </clipPath>\n </defs>\n</svg>\n",
      "image/png": "[encoded data removed]"
     },
     "metadata": {
      "needs_background": "light"
     }
    }
   ],
   "source": [
    "import matplotlib.pyplot as plt\n",
    "model.eval()\n",
    "z = torch.randn(1, model.hparams.latent_dim)\n",
    "plt.imshow(model(z).detach().numpy()[0,0,:])"
   ]
  }
 ]
}